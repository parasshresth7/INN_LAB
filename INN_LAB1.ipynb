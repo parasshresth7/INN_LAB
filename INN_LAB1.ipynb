{
 "cells": [
  {
   "cell_type": "code",
   "execution_count": 4,
   "id": "792b9483",
   "metadata": {},
   "outputs": [
    {
     "name": "stdout",
     "output_type": "stream",
     "text": [
      "Input: [ 0.5 -0.2  0.1]\n",
      "Output: [0.74128834]\n"
     ]
    }
   ],
   "source": [
    "\n",
    "import numpy as np\n",
    "class Neuron:\n",
    "    def __init__(self, input_size):\n",
    "        # Initialize weights and biases randomly\n",
    "        self.weights = np.random.rand(input_size)\n",
    "        self.bias = np.random.rand(1)\n",
    "\n",
    "    def sigmoid(self, x):\n",
    "        # Sigmoid activation function\n",
    "        return 1 / (1 + np.exp(-x))\n",
    "\n",
    "\n",
    "    def forward(self, inputs):\n",
    "        # Calculate weighted sum of inputs, add bias, and apply activation function\n",
    "        weighted_sum = np.dot(inputs, self.weights) + self.bias\n",
    "        output = self.sigmoid(weighted_sum)\n",
    "        return output\n",
    "\n",
    "# Example usage:\n",
    "input_size = 3  # Number of input nodes\n",
    "neuron = Neuron(input_size)\n",
    "\n",
    "# Example input values\n",
    "inputs = np.array([0.5, -0.2, 0.1])\n",
    "\n",
    "# Forward pass through the neuron\n",
    "output = neuron.forward(inputs)\n",
    "\n",
    "print(\"Input:\", inputs)\n",
    "print(\"Output:\", output)"
   ]
  },
  {
   "cell_type": "code",
   "execution_count": null,
   "id": "3d4819fc",
   "metadata": {},
   "outputs": [],
   "source": [
    "\n"
   ]
  },
  {
   "cell_type": "code",
   "execution_count": null,
   "id": "8436cdca",
   "metadata": {},
   "outputs": [],
   "source": [
    "     "
   ]
  },
  {
   "cell_type": "code",
   "execution_count": null,
   "id": "73b73551",
   "metadata": {},
   "outputs": [],
   "source": []
  },
  {
   "cell_type": "code",
   "execution_count": null,
   "id": "3414e531",
   "metadata": {},
   "outputs": [],
   "source": []
  }
 ],
 "metadata": {
  "kernelspec": {
   "display_name": "Python 3 (ipykernel)",
   "language": "python",
   "name": "python3"
  },
  "language_info": {
   "codemirror_mode": {
    "name": "ipython",
    "version": 3
   },
   "file_extension": ".py",
   "mimetype": "text/x-python",
   "name": "python",
   "nbconvert_exporter": "python",
   "pygments_lexer": "ipython3",
   "version": "3.11.3"
  }
 },
 "nbformat": 4,
 "nbformat_minor": 5
}
